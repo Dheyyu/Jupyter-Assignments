{
 "cells": [
  {
   "cell_type": "markdown",
   "metadata": {},
   "source": [
    "Question 3.1"
   ]
  },
  {
   "cell_type": "code",
   "execution_count": 7,
   "metadata": {},
   "outputs": [
    {
     "name": "stdout",
     "output_type": "stream",
     "text": [
      "3600\n"
     ]
    }
   ],
   "source": [
    "# Number of seconds in a minute\n",
    "seconds_in_minute = 60\n",
    "\n",
    "# Number of minutes in an hour\n",
    "minutes_in_hour = 60\n",
    "\n",
    "# Calculating the number of seconds in an hour\n",
    "seconds_in_hour = seconds_in_minute * minutes_in_hour\n",
    "\n",
    "# Outputing the result\n",
    "print(seconds_in_hour)"
   ]
  },
  {
   "cell_type": "markdown",
   "metadata": {},
   "source": [
    "There are 3600 seconds in an hour"
   ]
  },
  {
   "cell_type": "markdown",
   "metadata": {},
   "source": [
    "Question 3.2\n",
    "# Assigning the result from the previous task to a variable"
   ]
  },
  {
   "cell_type": "code",
   "execution_count": 8,
   "metadata": {},
   "outputs": [
    {
     "name": "stdout",
     "output_type": "stream",
     "text": [
      "3600\n"
     ]
    }
   ],
   "source": [
    "# Assigning seconds in an hour to a variable called seconds_per_hour\n",
    "seconds_per_hour = seconds_in_hour\n",
    "print(seconds_per_hour)"
   ]
  },
  {
   "cell_type": "markdown",
   "metadata": {},
   "source": [
    "Now the value is assigned to seconds_per_hour"
   ]
  },
  {
   "cell_type": "markdown",
   "metadata": {},
   "source": [
    "Question 3.3\n",
    "How many seconds are in a day"
   ]
  },
  {
   "cell_type": "code",
   "execution_count": 11,
   "metadata": {},
   "outputs": [
    {
     "name": "stdout",
     "output_type": "stream",
     "text": [
      "86400\n"
     ]
    }
   ],
   "source": [
    "# Number of hours in a day\n",
    "hours_in_day = 24\n",
    "\n",
    "# Calculating the number of seconds in a day  using the seconds_per_hour variable\n",
    "seconds_in_day = seconds_per_hour * hours_in_day\n",
    "\n",
    "# Printing the result\n",
    "print(seconds_in_day)"
   ]
  },
  {
   "cell_type": "markdown",
   "metadata": {},
   "source": [
    "There are 86,400 seconds in a day"
   ]
  },
  {
   "cell_type": "markdown",
   "metadata": {},
   "source": [
    "Question 3.4"
   ]
  },
  {
   "cell_type": "code",
   "execution_count": 12,
   "metadata": {},
   "outputs": [
    {
     "name": "stdout",
     "output_type": "stream",
     "text": [
      "86400\n"
     ]
    }
   ],
   "source": [
    "# Calculating seconds per day again but saving the result in a variable called seconds_per_day\n",
    "seconds_per_day = seconds_per_hour * hours_in_day\n",
    "\n",
    "# Printing the resuly\n",
    "print(seconds_per_day)"
   ]
  },
  {
   "cell_type": "markdown",
   "metadata": {},
   "source": [
    "Now the result is saved in seconds_per_day"
   ]
  },
  {
   "cell_type": "markdown",
   "metadata": {},
   "source": [
    "Question 3.5"
   ]
  },
  {
   "cell_type": "code",
   "execution_count": 15,
   "metadata": {},
   "outputs": [
    {
     "name": "stdout",
     "output_type": "stream",
     "text": [
      "24.0\n"
     ]
    }
   ],
   "source": [
    "# Dividing seconds_per_day by seconds_per_hour using floating point (/) division\n",
    "floating_point_result = seconds_per_day / seconds_per_hour\n",
    "print(floating_point_result)"
   ]
  },
  {
   "cell_type": "markdown",
   "metadata": {},
   "source": [
    "The result using floating-point division is 24.0"
   ]
  },
  {
   "cell_type": "markdown",
   "metadata": {},
   "source": [
    "Question 3.6"
   ]
  },
  {
   "cell_type": "code",
   "execution_count": 16,
   "metadata": {},
   "outputs": [
    {
     "name": "stdout",
     "output_type": "stream",
     "text": [
      "24\n"
     ]
    }
   ],
   "source": [
    "# Dividing both variables using integer (//) division\n",
    "integer_result = seconds_per_day // seconds_per_hour\n",
    "print(integer_result)"
   ]
  },
  {
   "cell_type": "markdown",
   "metadata": {},
   "source": [
    "The result using interger division is 24\n",
    "\n",
    "Therefore,\n",
    "\n",
    "Absolutely, the integer value agrees with the floating-point value from the previous question aside from the final '.0'"
   ]
  }
 ],
 "metadata": {
  "language_info": {
   "name": "python"
  }
 },
 "nbformat": 4,
 "nbformat_minor": 2
}
